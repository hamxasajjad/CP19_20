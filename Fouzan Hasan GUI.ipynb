{
 "cells": [
  {
   "cell_type": "code",
   "execution_count": 56,
   "metadata": {},
   "outputs": [],
   "source": [
    "from tkinter import *\n",
    "\n",
    "root=Tk()\n",
    "topframe=Frame(root)\n",
    "topframe.pack()\n",
    "bottomframe=Frame(root)\n",
    "bottomframe.pack(side=BOTTOM)\n",
    "def b1():\n",
    "    a=Label(topframe,text=\"I am Button1\",bg=\"black\",fg=\"white\")\n",
    "    a.pack()\n",
    "def b2():\n",
    "    a=Label(topframe,text=\"I am Button2\",bg=\"black\",fg=\"pink\")\n",
    "    a.pack()\n",
    "def b3():\n",
    "    a=Label(topframe,text=\"I am Button3\",bg=\"black\",fg=\"yellow\")\n",
    "    a.pack()\n",
    "def b4():\n",
    "    a=Label(topframe,text=\"I am Button4\",bg=\"black\",fg=\"red\")\n",
    "    a.pack()\n",
    "\n",
    "button1=Button(bottomframe,text=\"button1\",command=b1,bg=\"black\",fg=\"white\")\n",
    "button1.pack(side=LEFT)\n",
    "button2=Button(bottomframe,text=\"button2\",command=b2,bg=\"black\",fg=\"pink\")\n",
    "button2.pack(side=LEFT)\n",
    "button3=Button(bottomframe,text=\"button3\",command=b3,bg=\"black\",fg=\"yellow\")\n",
    "button3.pack(side=LEFT)\n",
    "button4=Button(bottomframe,text=\"button4\",command=b4,bg=\"black\",fg=\"red\")\n",
    "button4.pack()\n",
    "\n",
    "\n",
    "root.mainloop()"
   ]
  }
 ],
 "metadata": {
  "kernelspec": {
   "display_name": "Python 3",
   "language": "python",
   "name": "python3"
  },
  "language_info": {
   "codemirror_mode": {
    "name": "ipython",
    "version": 3
   },
   "file_extension": ".py",
   "mimetype": "text/x-python",
   "name": "python",
   "nbconvert_exporter": "python",
   "pygments_lexer": "ipython3",
   "version": "3.7.1"
  }
 },
 "nbformat": 4,
 "nbformat_minor": 2
}
